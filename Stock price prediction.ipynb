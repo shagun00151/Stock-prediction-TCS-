{
 "cells": [
  {
   "cell_type": "code",
   "execution_count": 1,
   "id": "8842b008",
   "metadata": {},
   "outputs": [],
   "source": [
    "import pandas as pd \n",
    "import numpy as np\n",
    "from sklearn import preprocessing\n",
    "from sklearn.model_selection import train_test_split\n",
    "from sklearn.linear_model import LinearRegression"
   ]
  },
  {
   "cell_type": "code",
   "execution_count": 2,
   "id": "371cdbe6",
   "metadata": {},
   "outputs": [],
   "source": [
    "dataset = pd.read_csv('TCS.NS.csv')"
   ]
  },
  {
   "cell_type": "code",
   "execution_count": 3,
   "id": "3358128e",
   "metadata": {},
   "outputs": [
    {
     "data": {
      "text/html": [
       "<div>\n",
       "<style scoped>\n",
       "    .dataframe tbody tr th:only-of-type {\n",
       "        vertical-align: middle;\n",
       "    }\n",
       "\n",
       "    .dataframe tbody tr th {\n",
       "        vertical-align: top;\n",
       "    }\n",
       "\n",
       "    .dataframe thead th {\n",
       "        text-align: right;\n",
       "    }\n",
       "</style>\n",
       "<table border=\"1\" class=\"dataframe\">\n",
       "  <thead>\n",
       "    <tr style=\"text-align: right;\">\n",
       "      <th></th>\n",
       "      <th>Date</th>\n",
       "      <th>Open</th>\n",
       "      <th>High</th>\n",
       "      <th>Low</th>\n",
       "      <th>Close</th>\n",
       "      <th>Adj Close</th>\n",
       "      <th>Volume</th>\n",
       "    </tr>\n",
       "  </thead>\n",
       "  <tbody>\n",
       "    <tr>\n",
       "      <th>0</th>\n",
       "      <td>2021-12-22</td>\n",
       "      <td>3624.0</td>\n",
       "      <td>3636.800049</td>\n",
       "      <td>3606.250000</td>\n",
       "      <td>3630.750000</td>\n",
       "      <td>3581.383789</td>\n",
       "      <td>1224328</td>\n",
       "    </tr>\n",
       "    <tr>\n",
       "      <th>1</th>\n",
       "      <td>2021-12-23</td>\n",
       "      <td>3648.0</td>\n",
       "      <td>3670.500000</td>\n",
       "      <td>3630.000000</td>\n",
       "      <td>3662.699951</td>\n",
       "      <td>3612.899414</td>\n",
       "      <td>1792861</td>\n",
       "    </tr>\n",
       "    <tr>\n",
       "      <th>2</th>\n",
       "      <td>2021-12-24</td>\n",
       "      <td>3685.0</td>\n",
       "      <td>3705.000000</td>\n",
       "      <td>3644.800049</td>\n",
       "      <td>3670.899902</td>\n",
       "      <td>3620.987793</td>\n",
       "      <td>2209923</td>\n",
       "    </tr>\n",
       "    <tr>\n",
       "      <th>3</th>\n",
       "      <td>2021-12-27</td>\n",
       "      <td>3671.0</td>\n",
       "      <td>3700.000000</td>\n",
       "      <td>3653.100098</td>\n",
       "      <td>3696.100098</td>\n",
       "      <td>3645.845459</td>\n",
       "      <td>1534135</td>\n",
       "    </tr>\n",
       "    <tr>\n",
       "      <th>4</th>\n",
       "      <td>2021-12-28</td>\n",
       "      <td>3710.0</td>\n",
       "      <td>3725.000000</td>\n",
       "      <td>3693.850098</td>\n",
       "      <td>3706.550049</td>\n",
       "      <td>3656.153076</td>\n",
       "      <td>1456218</td>\n",
       "    </tr>\n",
       "  </tbody>\n",
       "</table>\n",
       "</div>"
      ],
      "text/plain": [
       "         Date    Open         High          Low        Close    Adj Close  \\\n",
       "0  2021-12-22  3624.0  3636.800049  3606.250000  3630.750000  3581.383789   \n",
       "1  2021-12-23  3648.0  3670.500000  3630.000000  3662.699951  3612.899414   \n",
       "2  2021-12-24  3685.0  3705.000000  3644.800049  3670.899902  3620.987793   \n",
       "3  2021-12-27  3671.0  3700.000000  3653.100098  3696.100098  3645.845459   \n",
       "4  2021-12-28  3710.0  3725.000000  3693.850098  3706.550049  3656.153076   \n",
       "\n",
       "    Volume  \n",
       "0  1224328  \n",
       "1  1792861  \n",
       "2  2209923  \n",
       "3  1534135  \n",
       "4  1456218  "
      ]
     },
     "execution_count": 3,
     "metadata": {},
     "output_type": "execute_result"
    }
   ],
   "source": [
    "dataset.head()"
   ]
  },
  {
   "cell_type": "code",
   "execution_count": 4,
   "id": "2a2fd289",
   "metadata": {},
   "outputs": [
    {
     "data": {
      "text/plain": [
       "(249, 7)"
      ]
     },
     "execution_count": 4,
     "metadata": {},
     "output_type": "execute_result"
    }
   ],
   "source": [
    "dataset.shape"
   ]
  },
  {
   "cell_type": "code",
   "execution_count": 7,
   "id": "bd32fce7",
   "metadata": {},
   "outputs": [],
   "source": [
    "dataset.drop(['Adj Close'],inplace=True,axis =1)"
   ]
  },
  {
   "cell_type": "code",
   "execution_count": 8,
   "id": "fb3f7f85",
   "metadata": {},
   "outputs": [
    {
     "data": {
      "text/plain": [
       "(249, 6)"
      ]
     },
     "execution_count": 8,
     "metadata": {},
     "output_type": "execute_result"
    }
   ],
   "source": [
    "dataset.shape"
   ]
  },
  {
   "cell_type": "code",
   "execution_count": 9,
   "id": "0c1714b9",
   "metadata": {},
   "outputs": [
    {
     "name": "stdout",
     "output_type": "stream",
     "text": [
      "<class 'pandas.core.frame.DataFrame'>\n",
      "RangeIndex: 249 entries, 0 to 248\n",
      "Data columns (total 6 columns):\n",
      " #   Column  Non-Null Count  Dtype  \n",
      "---  ------  --------------  -----  \n",
      " 0   Date    249 non-null    object \n",
      " 1   Open    249 non-null    float64\n",
      " 2   High    249 non-null    float64\n",
      " 3   Low     249 non-null    float64\n",
      " 4   Close   249 non-null    float64\n",
      " 5   Volume  249 non-null    int64  \n",
      "dtypes: float64(4), int64(1), object(1)\n",
      "memory usage: 11.8+ KB\n"
     ]
    }
   ],
   "source": [
    "dataset.info()"
   ]
  },
  {
   "cell_type": "code",
   "execution_count": 11,
   "id": "f073530b",
   "metadata": {},
   "outputs": [
    {
     "data": {
      "text/plain": [
       "Date      0\n",
       "Open      0\n",
       "High      0\n",
       "Low       0\n",
       "Close     0\n",
       "Volume    0\n",
       "dtype: int64"
      ]
     },
     "execution_count": 11,
     "metadata": {},
     "output_type": "execute_result"
    }
   ],
   "source": [
    "dataset.isnull().sum()"
   ]
  },
  {
   "cell_type": "code",
   "execution_count": 12,
   "id": "f3024cba",
   "metadata": {
    "scrolled": true
   },
   "outputs": [
    {
     "data": {
      "text/plain": [
       "<AxesSubplot:>"
      ]
     },
     "execution_count": 12,
     "metadata": {},
     "output_type": "execute_result"
    },
    {
     "data": {
      "image/png": "[encoded data removed]",
      "text/plain": [
       "<Figure size 432x288 with 1 Axes>"
      ]
     },
     "metadata": {
      "needs_background": "light"
     },
     "output_type": "display_data"
    }
   ],
   "source": [
    "dataset['Open'].plot()"
   ]
  },
  {
   "cell_type": "code",
   "execution_count": 16,
   "id": "9ab121a0",
   "metadata": {},
   "outputs": [],
   "source": [
    "x = dataset[['Open','High','Low','Volume']]\n",
    "y= dataset[['Close']]"
   ]
  },
  {
   "cell_type": "code",
   "execution_count": 17,
   "id": "b36c3c22",
   "metadata": {},
   "outputs": [],
   "source": [
    "x_train,x_test,y_train,y_test = train_test_split(x,y,test_size=0.25,random_state=0)"
   ]
  },
  {
   "cell_type": "code",
   "execution_count": 18,
   "id": "3f0af9d7",
   "metadata": {},
   "outputs": [
    {
     "data": {
      "text/plain": [
       "LinearRegression()"
      ]
     },
     "execution_count": 18,
     "metadata": {},
     "output_type": "execute_result"
    }
   ],
   "source": [
    "model = LinearRegression()\n",
    "model.fit(x_train,y_train)"
   ]
  },
  {
   "cell_type": "code",
   "execution_count": 21,
   "id": "c641a9c9",
   "metadata": {},
   "outputs": [],
   "source": [
    "y_pred = model.predict(x_test)\n"
   ]
  },
  {
   "cell_type": "code",
   "execution_count": 26,
   "id": "31ba386f",
   "metadata": {},
   "outputs": [
    {
     "name": "stdout",
     "output_type": "stream",
     "text": [
      "[[3274.06702332]\n",
      " [3229.88587539]\n",
      " [3701.19083354]\n",
      " [3247.38385391]\n",
      " [3162.9978312 ]\n",
      " [3693.75767611]\n",
      " [3410.50585941]\n",
      " [3408.14793092]\n",
      " [3214.07856094]\n",
      " [3246.38161217]\n",
      " [3398.04467521]\n",
      " [3070.23181267]\n",
      " [3563.12625379]\n",
      " [3156.99187345]\n",
      " [3399.78619591]\n",
      " [3089.99473483]\n",
      " [3630.37645905]\n",
      " [3370.12459172]\n",
      " [3380.66382486]\n",
      " [3408.71354085]\n",
      " [3122.31735623]\n",
      " [3309.94149367]\n",
      " [3405.17215249]\n",
      " [3487.2570704 ]\n",
      " [3578.36609615]\n",
      " [3138.20906886]\n",
      " [3766.90974624]\n",
      " [3454.42844472]\n",
      " [3750.3670124 ]\n",
      " [3352.14910448]\n",
      " [3220.05962722]\n",
      " [3818.76881564]\n",
      " [2988.71496687]\n",
      " [3710.59304992]\n",
      " [3326.41069313]\n",
      " [3714.74226461]\n",
      " [3817.93729845]\n",
      " [3303.64393227]\n",
      " [3842.73477749]\n",
      " [3129.05211964]\n",
      " [3324.59184935]\n",
      " [3295.58641896]\n",
      " [3368.65351558]\n",
      " [3373.53226479]\n",
      " [3684.39715949]\n",
      " [3209.53933314]\n",
      " [3420.33330968]\n",
      " [3291.86725786]\n",
      " [3667.01185423]\n",
      " [3342.41069746]\n",
      " [3350.76581007]\n",
      " [4013.03192141]\n",
      " [3123.75934359]\n",
      " [3858.24573989]\n",
      " [3830.34223829]\n",
      " [3753.39612376]\n",
      " [3301.91638005]\n",
      " [3233.48386662]\n",
      " [3162.70264959]\n",
      " [3391.45407899]\n",
      " [3233.90694346]\n",
      " [3295.89157969]\n",
      " [3677.87767011]]\n"
     ]
    }
   ],
   "source": [
    "print(y_pred)"
   ]
  }
 ],
 "metadata": {
  "kernelspec": {
   "display_name": "Python 3",
   "language": "python",
   "name": "python3"
  },
  "language_info": {
   "codemirror_mode": {
    "name": "ipython",
    "version": 3
   },
   "file_extension": ".py",
   "mimetype": "text/x-python",
   "name": "python",
   "nbconvert_exporter": "python",
   "pygments_lexer": "ipython3",
   "version": "3.8.8"
  }
 },
 "nbformat": 4,
 "nbformat_minor": 5
}
